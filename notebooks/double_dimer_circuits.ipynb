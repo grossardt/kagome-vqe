{
 "cells": [
  {
   "cell_type": "markdown",
   "id": "7e61f3d3",
   "metadata": {},
   "source": [
    "# Circuits for double-dimer ground states\n",
    "\n",
    "We construct circuits to create the ground states of H = XXI + IXX + YYI + IYY + ZZI + IZZ:\n",
    "$$\\frac{1}{\\sqrt{6}} \\left(2 |010> - |100> - |001>\\right)$$\n",
    "$$\\frac{1}{\\sqrt{6}} \\left(2 |101> - |011> - |110>\\right)$$"
   ]
  },
  {
   "cell_type": "code",
   "execution_count": 3,
   "id": "b1bbe431",
   "metadata": {
    "scrolled": true
   },
   "outputs": [
    {
     "name": "stdout",
     "output_type": "stream",
     "text": [
      "-1.0 |001> + 2.0 |010> + -1.0 |100>\n"
     ]
    },
    {
     "data": {
      "text/html": [
       "<pre style=\"word-wrap: normal;white-space: pre;background: #fff0;line-height: 1.1;font-family: &quot;Courier New&quot;,Courier,monospace\">                       ┌───┐┌───┐     ┌───┐ statevector \n",
       "q_0: ──────────────────┤ H ├┤ X ├──■──┤ X ├──────░──────\n",
       "     ┌───────────┐┌───┐└─┬─┘└───┘  │  ├───┤      ░      \n",
       "q_1: ┤ Ry(1.231) ├┤ Z ├──■─────────■──┤ X ├──────░──────\n",
       "     └───────────┘└───┘          ┌─┴─┐└───┘      ░      \n",
       "q_2: ────────────────────────────┤ X ├───────────░──────\n",
       "                                 └───┘           ░      </pre>"
      ],
      "text/plain": [
       "                       ┌───┐┌───┐     ┌───┐ statevector \n",
       "q_0: ──────────────────┤ H ├┤ X ├──■──┤ X ├──────░──────\n",
       "     ┌───────────┐┌───┐└─┬─┘└───┘  │  ├───┤      ░      \n",
       "q_1: ┤ Ry(1.231) ├┤ Z ├──■─────────■──┤ X ├──────░──────\n",
       "     └───────────┘└───┘          ┌─┴─┐└───┘      ░      \n",
       "q_2: ────────────────────────────┤ X ├───────────░──────\n",
       "                                 └───┘           ░      "
      ]
     },
     "execution_count": 3,
     "metadata": {},
     "output_type": "execute_result"
    }
   ],
   "source": [
    "from qiskit import QuantumCircuit, transpile, Aer\n",
    "from numpy import sqrt, round, real, imag, pi, arccos\n",
    "\n",
    "simulator = Aer.get_backend('aer_simulator_statevector')\n",
    "vecs = ('|000>','|100>','|010>','|110>','|001>','|101>','|011>','|111>')\n",
    "\n",
    "qc = QuantumCircuit(3)\n",
    "qc.ry(arccos(1/3),1)\n",
    "qc.z(1)\n",
    "qc.ch(1,0)\n",
    "qc.x(0)\n",
    "qc.ccx(0,1,2)\n",
    "qc.x(0)\n",
    "qc.x(1)\n",
    "qc.save_statevector()\n",
    "\n",
    "result = simulator.run(transpile(qc, simulator)).result()\n",
    "psi = sqrt(6)*result.get_statevector(qc)\n",
    "out = ''\n",
    "for i in (0,4,2,6,1,5,3,7):\n",
    "    if abs(psi[i]) > 1e-15:\n",
    "        if out:\n",
    "            out += ' + '\n",
    "        out += str(round(real(psi[i]),6))\n",
    "        if abs(imag(psi[i])) > 1e-15:\n",
    "            if imag(psi[i]) > 0:\n",
    "                out += '+'\n",
    "            out += str(imag(psi[i])) + 'i'\n",
    "        out += ' ' + vecs[i]\n",
    "print(out)\n",
    "qc.draw()"
   ]
  },
  {
   "cell_type": "code",
   "execution_count": 4,
   "id": "e7691823",
   "metadata": {
    "scrolled": true
   },
   "outputs": [
    {
     "name": "stdout",
     "output_type": "stream",
     "text": [
      "-1.0 |011> + 2.0 |101> + -1.0 |110>\n"
     ]
    },
    {
     "data": {
      "text/html": [
       "<pre style=\"word-wrap: normal;white-space: pre;background: #fff0;line-height: 1.1;font-family: &quot;Courier New&quot;,Courier,monospace\">                       ┌───┐┌───┐      statevector \n",
       "q_0: ──────────────────┤ H ├┤ X ├──■────────░──────\n",
       "     ┌───────────┐┌───┐└─┬─┘└───┘  │        ░      \n",
       "q_1: ┤ Ry(1.231) ├┤ Z ├──■─────────■────────░──────\n",
       "     └───┬───┬───┘└───┘          ┌─┴─┐      ░      \n",
       "q_2: ────┤ X ├───────────────────┤ X ├──────░──────\n",
       "         └───┘                   └───┘      ░      </pre>"
      ],
      "text/plain": [
       "                       ┌───┐┌───┐      statevector \n",
       "q_0: ──────────────────┤ H ├┤ X ├──■────────░──────\n",
       "     ┌───────────┐┌───┐└─┬─┘└───┘  │        ░      \n",
       "q_1: ┤ Ry(1.231) ├┤ Z ├──■─────────■────────░──────\n",
       "     └───┬───┬───┘└───┘          ┌─┴─┐      ░      \n",
       "q_2: ────┤ X ├───────────────────┤ X ├──────░──────\n",
       "         └───┘                   └───┘      ░      "
      ]
     },
     "execution_count": 4,
     "metadata": {},
     "output_type": "execute_result"
    }
   ],
   "source": [
    "from qiskit import QuantumCircuit, transpile, Aer\n",
    "from numpy import sqrt, round, real, imag, pi, arccos\n",
    "\n",
    "simulator = Aer.get_backend('aer_simulator_statevector')\n",
    "vecs = ('|000>','|100>','|010>','|110>','|001>','|101>','|011>','|111>')\n",
    "\n",
    "qc = QuantumCircuit(3)\n",
    "qc.x(2)\n",
    "qc.ry(arccos(1/3),1)\n",
    "qc.z(1)\n",
    "qc.ch(1,0)\n",
    "qc.x(0)\n",
    "qc.ccx(0,1,2)\n",
    "qc.save_statevector()\n",
    "\n",
    "result = simulator.run(transpile(qc, simulator)).result()\n",
    "psi = sqrt(6)*result.get_statevector(qc)\n",
    "out = ''\n",
    "for i in (0,4,2,6,1,5,3,7):\n",
    "    if abs(psi[i]) > 1e-15:\n",
    "        if out:\n",
    "            out += ' + '\n",
    "        out += str(round(real(psi[i]),6))\n",
    "        if abs(imag(psi[i])) > 1e-15:\n",
    "            if imag(psi[i]) > 0:\n",
    "                out += '+'\n",
    "            out += str(imag(psi[i])) + 'i'\n",
    "        out += ' ' + vecs[i]\n",
    "print(out)\n",
    "qc.draw()"
   ]
  },
  {
   "cell_type": "markdown",
   "id": "9e9c24e7",
   "metadata": {},
   "source": [
    "Transpiled circuit for\n",
    "$$\\frac{1}{\\sqrt{6}} \\left(2 |010> - |100> - |001>\\right)$$"
   ]
  },
  {
   "cell_type": "code",
   "execution_count": 8,
   "id": "32458255",
   "metadata": {},
   "outputs": [
    {
     "data": {
      "text/html": [
       "<pre style=\"word-wrap: normal;white-space: pre;background: #fff0;line-height: 1.1;font-family: &quot;Courier New&quot;,Courier,monospace\">global phase: 13π/8\n",
       "      ┌────────┐     ┌────┐    ┌──────────┐┌───┐┌───────────┐   ┌────┐   »\n",
       "q_0: ─┤ Rz(-π) ├─────┤ √X ├────┤ Rz(3π/4) ├┤ X ├┤ Rz(-3π/4) ├───┤ √X ├───»\n",
       "      └─┬────┬─┘┌────┴────┴───┐└──┬────┬──┘└─┬─┘└───────────┘   └────┘   »\n",
       "q_1: ───┤ √X ├──┤ Rz(-1.9106) ├───┤ √X ├─────■────────■──────────────────»\n",
       "     ┌──┴────┴─┐└────┬────┬───┘┌──┴────┴─┐          ┌─┴─┐    ┌──────────┐»\n",
       "q_2: ┤ Rz(π/2) ├─────┤ √X ├────┤ Rz(π/2) ├──────────┤ X ├────┤ Rz(-π/4) ├»\n",
       "     └─────────┘     └────┘    └─────────┘          └───┘    └──────────┘»\n",
       "«     ┌────────┐                                                  ┌─────────┐ »\n",
       "«q_0: ┤ Rz(-π) ├──■────────────────────────────────■───────■──────┤ Rz(π/4) ├─»\n",
       "«     └────────┘  │                  ┌─────────┐   │     ┌─┴─┐    ├─────────┴┐»\n",
       "«q_1: ────────────┼───────────────■──┤ Rz(π/4) ├───┼─────┤ X ├────┤ Rz(-π/4) ├»\n",
       "«               ┌─┴─┐┌─────────┐┌─┴─┐├─────────┴┐┌─┴─┐┌──┴───┴───┐└──┬────┬──┘»\n",
       "«q_2: ──────────┤ X ├┤ Rz(π/4) ├┤ X ├┤ Rz(-π/4) ├┤ X ├┤ Rz(3π/4) ├───┤ √X ├───»\n",
       "«               └───┘└─────────┘└───┘└──────────┘└───┘└──────────┘   └────┘   »\n",
       "«                ┌───┐\n",
       "«q_0: ─────■─────┤ X ├\n",
       "«        ┌─┴─┐   ├───┤\n",
       "«q_1: ───┤ X ├───┤ X ├\n",
       "«     ┌──┴───┴──┐└───┘\n",
       "«q_2: ┤ Rz(π/2) ├─────\n",
       "«     └─────────┘     </pre>"
      ],
      "text/plain": [
       "global phase: 13π/8\n",
       "      ┌────────┐     ┌────┐    ┌──────────┐┌───┐┌───────────┐   ┌────┐   »\n",
       "q_0: ─┤ Rz(-π) ├─────┤ √X ├────┤ Rz(3π/4) ├┤ X ├┤ Rz(-3π/4) ├───┤ √X ├───»\n",
       "      └─┬────┬─┘┌────┴────┴───┐└──┬────┬──┘└─┬─┘└───────────┘   └────┘   »\n",
       "q_1: ───┤ √X ├──┤ Rz(-1.9106) ├───┤ √X ├─────■────────■──────────────────»\n",
       "     ┌──┴────┴─┐└────┬────┬───┘┌──┴────┴─┐          ┌─┴─┐    ┌──────────┐»\n",
       "q_2: ┤ Rz(π/2) ├─────┤ √X ├────┤ Rz(π/2) ├──────────┤ X ├────┤ Rz(-π/4) ├»\n",
       "     └─────────┘     └────┘    └─────────┘          └───┘    └──────────┘»\n",
       "«     ┌────────┐                                                  ┌─────────┐ »\n",
       "«q_0: ┤ Rz(-π) ├──■────────────────────────────────■───────■──────┤ Rz(π/4) ├─»\n",
       "«     └────────┘  │                  ┌─────────┐   │     ┌─┴─┐    ├─────────┴┐»\n",
       "«q_1: ────────────┼───────────────■──┤ Rz(π/4) ├───┼─────┤ X ├────┤ Rz(-π/4) ├»\n",
       "«               ┌─┴─┐┌─────────┐┌─┴─┐├─────────┴┐┌─┴─┐┌──┴───┴───┐└──┬────┬──┘»\n",
       "«q_2: ──────────┤ X ├┤ Rz(π/4) ├┤ X ├┤ Rz(-π/4) ├┤ X ├┤ Rz(3π/4) ├───┤ √X ├───»\n",
       "«               └───┘└─────────┘└───┘└──────────┘└───┘└──────────┘   └────┘   »\n",
       "«                ┌───┐\n",
       "«q_0: ─────■─────┤ X ├\n",
       "«        ┌─┴─┐   ├───┤\n",
       "«q_1: ───┤ X ├───┤ X ├\n",
       "«     ┌──┴───┴──┐└───┘\n",
       "«q_2: ┤ Rz(π/2) ├─────\n",
       "«     └─────────┘     "
      ]
     },
     "execution_count": 8,
     "metadata": {},
     "output_type": "execute_result"
    }
   ],
   "source": [
    "from qiskit import QuantumCircuit, transpile, qpy\n",
    "qc = QuantumCircuit(3)\n",
    "qc.ry(arccos(1/3),1)\n",
    "qc.z(1)\n",
    "qc.ch(1,0)\n",
    "qc.x(0)\n",
    "qc.ccx(0,1,2)\n",
    "qc.x(0)\n",
    "qc.x(1)\n",
    "qc_final = transpile(qc, basis_gates=['cx','x','sx','rz'])\n",
    "for _ in range(100):\n",
    "    qct = transpile(qc, basis_gates=['cx','x','sx','rz'])\n",
    "    if qct.depth() < qc_final.depth():\n",
    "        qc_final = qct\n",
    "with open(\"double_dimer_1_circuit.qpy\", \"wb\") as qpy_file_write:\n",
    "    qpy.dump(qc_final, qpy_file_write)\n",
    "qc_final.draw()"
   ]
  },
  {
   "cell_type": "markdown",
   "id": "5df5b9f4",
   "metadata": {},
   "source": [
    "Transpiled circuit for\n",
    "$$\\frac{1}{\\sqrt{6}} \\left(2 |101> - |011> - |110>\\right)$$"
   ]
  },
  {
   "cell_type": "code",
   "execution_count": 9,
   "id": "fb88434e",
   "metadata": {},
   "outputs": [
    {
     "data": {
      "text/html": [
       "<pre style=\"word-wrap: normal;white-space: pre;background: #fff0;line-height: 1.1;font-family: &quot;Courier New&quot;,Courier,monospace\">global phase: 9π/8\n",
       "      ┌────────┐     ┌────┐    ┌──────────┐┌───┐┌───────────┐   ┌────┐   »\n",
       "q_0: ─┤ Rz(-π) ├─────┤ √X ├────┤ Rz(3π/4) ├┤ X ├┤ Rz(-3π/4) ├───┤ √X ├───»\n",
       "      └─┬────┬─┘┌────┴────┴───┐└──┬────┬──┘└─┬─┘└───────────┘   └────┘   »\n",
       "q_1: ───┤ √X ├──┤ Rz(-1.9106) ├───┤ √X ├─────■────────■──────────────────»\n",
       "     ┌──┴────┴─┐└────┬────┬───┘┌──┴────┴──┐         ┌─┴─┐    ┌──────────┐»\n",
       "q_2: ┤ Rz(π/2) ├─────┤ √X ├────┤ Rz(-π/2) ├─────────┤ X ├────┤ Rz(-π/4) ├»\n",
       "     └─────────┘     └────┘    └──────────┘         └───┘    └──────────┘»\n",
       "«     ┌────────┐                                                  ┌─────────┐ »\n",
       "«q_0: ┤ Rz(-π) ├──■────────────────────────────────■───────■──────┤ Rz(π/4) ├─»\n",
       "«     └────────┘  │                  ┌─────────┐   │     ┌─┴─┐    ├─────────┴┐»\n",
       "«q_1: ────────────┼───────────────■──┤ Rz(π/4) ├───┼─────┤ X ├────┤ Rz(-π/4) ├»\n",
       "«               ┌─┴─┐┌─────────┐┌─┴─┐├─────────┴┐┌─┴─┐┌──┴───┴───┐└──┬────┬──┘»\n",
       "«q_2: ──────────┤ X ├┤ Rz(π/4) ├┤ X ├┤ Rz(-π/4) ├┤ X ├┤ Rz(3π/4) ├───┤ √X ├───»\n",
       "«               └───┘└─────────┘└───┘└──────────┘└───┘└──────────┘   └────┘   »\n",
       "«                \n",
       "«q_0: ─────■─────\n",
       "«        ┌─┴─┐   \n",
       "«q_1: ───┤ X ├───\n",
       "«     ┌──┴───┴──┐\n",
       "«q_2: ┤ Rz(π/2) ├\n",
       "«     └─────────┘</pre>"
      ],
      "text/plain": [
       "global phase: 9π/8\n",
       "      ┌────────┐     ┌────┐    ┌──────────┐┌───┐┌───────────┐   ┌────┐   »\n",
       "q_0: ─┤ Rz(-π) ├─────┤ √X ├────┤ Rz(3π/4) ├┤ X ├┤ Rz(-3π/4) ├───┤ √X ├───»\n",
       "      └─┬────┬─┘┌────┴────┴───┐└──┬────┬──┘└─┬─┘└───────────┘   └────┘   »\n",
       "q_1: ───┤ √X ├──┤ Rz(-1.9106) ├───┤ √X ├─────■────────■──────────────────»\n",
       "     ┌──┴────┴─┐└────┬────┬───┘┌──┴────┴──┐         ┌─┴─┐    ┌──────────┐»\n",
       "q_2: ┤ Rz(π/2) ├─────┤ √X ├────┤ Rz(-π/2) ├─────────┤ X ├────┤ Rz(-π/4) ├»\n",
       "     └─────────┘     └────┘    └──────────┘         └───┘    └──────────┘»\n",
       "«     ┌────────┐                                                  ┌─────────┐ »\n",
       "«q_0: ┤ Rz(-π) ├──■────────────────────────────────■───────■──────┤ Rz(π/4) ├─»\n",
       "«     └────────┘  │                  ┌─────────┐   │     ┌─┴─┐    ├─────────┴┐»\n",
       "«q_1: ────────────┼───────────────■──┤ Rz(π/4) ├───┼─────┤ X ├────┤ Rz(-π/4) ├»\n",
       "«               ┌─┴─┐┌─────────┐┌─┴─┐├─────────┴┐┌─┴─┐┌──┴───┴───┐└──┬────┬──┘»\n",
       "«q_2: ──────────┤ X ├┤ Rz(π/4) ├┤ X ├┤ Rz(-π/4) ├┤ X ├┤ Rz(3π/4) ├───┤ √X ├───»\n",
       "«               └───┘└─────────┘└───┘└──────────┘└───┘└──────────┘   └────┘   »\n",
       "«                \n",
       "«q_0: ─────■─────\n",
       "«        ┌─┴─┐   \n",
       "«q_1: ───┤ X ├───\n",
       "«     ┌──┴───┴──┐\n",
       "«q_2: ┤ Rz(π/2) ├\n",
       "«     └─────────┘"
      ]
     },
     "execution_count": 9,
     "metadata": {},
     "output_type": "execute_result"
    }
   ],
   "source": [
    "from qiskit import QuantumCircuit, transpile, qpy\n",
    "qc = QuantumCircuit(3)\n",
    "qc.x(2)\n",
    "qc.ry(arccos(1/3),1)\n",
    "qc.z(1)\n",
    "qc.ch(1,0)\n",
    "qc.x(0)\n",
    "qc.ccx(0,1,2)\n",
    "qc_final = transpile(qc, basis_gates=['cx','x','sx','rz'])\n",
    "for _ in range(100):\n",
    "    qct = transpile(qc, basis_gates=['cx','x','sx','rz'])\n",
    "    if qct.depth() < qc_final.depth():\n",
    "        qc_final = qct\n",
    "with open(\"double_dimer_circuit.qpy\", \"wb\") as qpy_file_write:\n",
    "    qpy.dump(qc_final, qpy_file_write)\n",
    "qc_final.draw()"
   ]
  }
 ],
 "metadata": {
  "kernelspec": {
   "display_name": "Python 3 (ipykernel)",
   "language": "python",
   "name": "python3"
  },
  "language_info": {
   "codemirror_mode": {
    "name": "ipython",
    "version": 3
   },
   "file_extension": ".py",
   "mimetype": "text/x-python",
   "name": "python",
   "nbconvert_exporter": "python",
   "pygments_lexer": "ipython3",
   "version": "3.10.12"
  }
 },
 "nbformat": 4,
 "nbformat_minor": 5
}
